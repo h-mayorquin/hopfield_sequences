{
 "cells": [
  {
   "cell_type": "markdown",
   "metadata": {},
   "source": [
    "## Calculation of connectivity matrix page 161\n",
    "This notebook reproduces the calculation of page 161"
   ]
  },
  {
   "cell_type": "code",
   "execution_count": null,
   "metadata": {
    "collapsed": false
   },
   "outputs": [],
   "source": [
    "from __future__ import print_function\n",
    "import sys\n",
    "sys.path.append('../')\n",
    "\n",
    "import numpy as np\n",
    "\n",
    "from hopfield import Hopfield\n",
    "\n",
    "n_dim = 5\n",
    "n_store = 2\n",
    "p_1 = np.array((1, -1, 1, 1, -1))\n",
    "p_2 = np.array((1, 1, 1, -1, -1))\n",
    "\n",
    "list_of_patterns = [p_1, p_2]\n",
    "\n",
    "nn = Hopfield(n_dim=n_dim)\n",
    "nn.train(list_of_patterns, normalize=False)\n",
    "\n",
    "print(nn.w)\n",
    "\n",
    "\n"
   ]
  }
 ],
 "metadata": {
  "kernelspec": {
   "display_name": "Python [conda root]",
   "language": "python",
   "name": "conda-root-py"
  },
  "language_info": {
   "codemirror_mode": {
    "name": "ipython",
    "version": 2
   },
   "file_extension": ".py",
   "mimetype": "text/x-python",
   "name": "python",
   "nbconvert_exporter": "python",
   "pygments_lexer": "ipython2",
   "version": "2.7.12"
  }
 },
 "nbformat": 4,
 "nbformat_minor": 0
}
